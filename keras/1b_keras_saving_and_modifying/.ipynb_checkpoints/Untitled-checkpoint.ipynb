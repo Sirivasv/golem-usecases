{
 "cells": [
  {
   "cell_type": "code",
   "execution_count": 1,
   "metadata": {},
   "outputs": [
    {
     "name": "stderr",
     "output_type": "stream",
     "text": [
      "Using TensorFlow backend.\n"
     ]
    }
   ],
   "source": [
    "import os\n",
    "import numpy as np\n",
    "import random as rn\n",
    "import tensorflow as tf\n",
    "\n",
    "# Setting PYTHONHASHSEED for determinism was not listed anywhere for TensorFlow,\n",
    "# but apparently it is necessary for the Theano backend\n",
    "# (https://github.com/fchollet/keras/issues/850).\n",
    "os.environ['PYTHONHASHSEED'] = '0'\n",
    "np.random.seed(7)\n",
    "rn.seed(7)\n",
    "\n",
    "# Limit operation to 1 thread for deterministic results.\n",
    "session_conf = tf.ConfigProto(\n",
    "    intra_op_parallelism_threads=1,\n",
    "    inter_op_parallelism_threads=1\n",
    ")\n",
    "\n",
    "from keras import backend as K\n",
    "\n",
    "tf.set_random_seed(7)\n",
    "sess = tf.Session(graph=tf.get_default_graph(), config=session_conf)\n",
    "K.set_session(sess)"
   ]
  },
  {
   "cell_type": "code",
   "execution_count": 2,
   "metadata": {
    "collapsed": true
   },
   "outputs": [],
   "source": [
    "NAME_WEIGHTS = \"./weights1\"\n",
    "NAME_MODEL = \"./model1\""
   ]
  },
  {
   "cell_type": "code",
   "execution_count": null,
   "metadata": {
    "collapsed": true
   },
   "outputs": [],
   "source": [
    "import pandas as pd\n",
    "from keras.layers import Dense, Dropout\n",
    "from keras.activations import relu, softmax\n",
    "from keras.models import Sequential \n",
    "from keras.optimizers import Adam\n",
    "from keras.losses import categorical_crossentropy\n",
    "\n",
    "\n",
    "iris = pd.read_csv(\"../keras_saving//IRIS.csv\", header=None)\n",
    "\n",
    "iris = iris.reindex(np.random.permutation(iris.index))\n",
    "\n",
    "transform = lambda x: {x: y for y, x in enumerate(set(iris[8]))}[x]\n",
    "\n",
    "y = pd.get_dummies(iris[8]).values\n",
    "\n",
    "x = iris[list(range(7))]\n",
    "\n",
    "x = ((x - x.mean()) / (x.max() - x.min())).values\n",
    "\n",
    "from sklearn.model_selection import train_test_split\n",
    "\n",
    "x_train, x_test, y_train, y_test = train_test_split(x, y, test_size=0.2)\n",
    "\n",
    "model = Sequential([Dense(75, activation=relu, input_shape=[x[0].size]), Dropout(0.5), Dense(3, activation=softmax)])\n",
    "\n",
    "model.compile(Adam(), categorical_crossentropy, metrics=[\"accuracy\"])\n",
    "\n",
    "model.fit(x_train, y_train)\n",
    "\n",
    "from sklearn.model_selection import cross_val_score\n",
    "from sklearn.metrics import accuracy_score\n",
    "\n",
    "model.test_on_batch(x_test, y_test)\n",
    "\n",
    "model.save_weights(NAME_WEIGHTS)\n",
    "\n",
    "model.save(NAME_MODEL)"
   ]
  }
 ],
 "metadata": {
  "kernelspec": {
   "display_name": "Python 3",
   "language": "python",
   "name": "python3"
  },
  "language_info": {
   "codemirror_mode": {
    "name": "ipython",
    "version": 3
   },
   "file_extension": ".py",
   "mimetype": "text/x-python",
   "name": "python",
   "nbconvert_exporter": "python",
   "pygments_lexer": "ipython3",
   "version": "3.6.1"
  }
 },
 "nbformat": 4,
 "nbformat_minor": 2
}
