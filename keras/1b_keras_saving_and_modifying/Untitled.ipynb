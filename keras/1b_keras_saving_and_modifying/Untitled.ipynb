{
 "cells": [
  {
   "cell_type": "code",
   "execution_count": 3,
   "metadata": {},
   "outputs": [],
   "source": [
    "import os\n",
    "import numpy as np\n",
    "import random as rn\n",
    "import tensorflow as tf\n",
    "\n",
    "# Setting PYTHONHASHSEED for determinism was not listed anywhere for TensorFlow,\n",
    "# but apparently it is necessary for the Theano backend\n",
    "# (https://github.com/fchollet/keras/issues/850).\n",
    "os.environ['PYTHONHASHSEED'] = '0'\n",
    "np.random.seed(7)\n",
    "rn.seed(7)\n",
    "\n",
    "# Limit operation to 1 thread for deterministic results.\n",
    "session_conf = tf.ConfigProto(\n",
    "    intra_op_parallelism_threads=1,\n",
    "    inter_op_parallelism_threads=1\n",
    ")\n",
    "\n",
    "from keras import backend as K\n",
    "\n",
    "tf.set_random_seed(7)\n",
    "sess = tf.Session(graph=tf.get_default_graph(), config=session_conf)\n",
    "K.set_session(sess)"
   ]
  },
  {
   "cell_type": "code",
   "execution_count": 4,
   "metadata": {
    "collapsed": true
   },
   "outputs": [],
   "source": [
    "NAME_WEIGHTS = \"./weights1\"\n",
    "NAME_MODEL = \"./model1\""
   ]
  },
  {
   "cell_type": "code",
   "execution_count": 5,
   "metadata": {},
   "outputs": [
    {
     "name": "stdout",
     "output_type": "stream",
     "text": [
      "Epoch 1/10\n",
      "80/80 [==============================] - 0s - loss: 1.1029 - acc: 0.3500     \n",
      "Epoch 2/10\n",
      "80/80 [==============================] - 0s - loss: 1.0580 - acc: 0.4750     \n",
      "Epoch 3/10\n",
      "80/80 [==============================] - 0s - loss: 1.0653 - acc: 0.3625     \n",
      "Epoch 4/10\n",
      "80/80 [==============================] - 0s - loss: 1.0253 - acc: 0.5625     \n",
      "Epoch 5/10\n",
      "80/80 [==============================] - 0s - loss: 1.0071 - acc: 0.6250     \n",
      "Epoch 6/10\n",
      "80/80 [==============================] - 0s - loss: 0.9818 - acc: 0.6375     \n",
      "Epoch 7/10\n",
      "80/80 [==============================] - 0s - loss: 0.9717 - acc: 0.5875     \n",
      "Epoch 8/10\n",
      "80/80 [==============================] - 0s - loss: 0.9459 - acc: 0.6375     \n",
      "Epoch 9/10\n",
      "80/80 [==============================] - 0s - loss: 0.9346 - acc: 0.7125     \n",
      "Epoch 10/10\n",
      "80/80 [==============================] - 0s - loss: 0.9049 - acc: 0.7125     \n"
     ]
    }
   ],
   "source": [
    "import pandas as pd\n",
    "from keras.layers import Dense, Dropout\n",
    "from keras.activations import relu, softmax\n",
    "from keras.models import Sequential \n",
    "from keras.optimizers import Adam\n",
    "from keras.losses import categorical_crossentropy\n",
    "\n",
    "\n",
    "iris = pd.read_csv(\"../keras_saving//IRIS.csv\", header=None)\n",
    "\n",
    "iris = iris.reindex(np.random.permutation(iris.index))\n",
    "\n",
    "transform = lambda x: {x: y for y, x in enumerate(set(iris[8]))}[x]\n",
    "\n",
    "y = pd.get_dummies(iris[8]).values\n",
    "\n",
    "x = iris[list(range(7))]\n",
    "\n",
    "x = ((x - x.mean()) / (x.max() - x.min())).values\n",
    "\n",
    "from sklearn.model_selection import train_test_split\n",
    "\n",
    "x_train, x_test, y_train, y_test = train_test_split(x, y, test_size=0.2)\n",
    "\n",
    "model = Sequential([Dense(75, activation=relu, input_shape=[x[0].size]), Dropout(0.5), Dense(3, activation=softmax)])\n",
    "\n",
    "model.compile(Adam(), categorical_crossentropy, metrics=[\"accuracy\"])\n",
    "\n",
    "model.fit(x_train, y_train)\n",
    "\n",
    "from sklearn.model_selection import cross_val_score\n",
    "from sklearn.metrics import accuracy_score\n",
    "\n",
    "model.test_on_batch(x_test, y_test)\n",
    "\n",
    "model.save_weights(NAME_WEIGHTS)\n",
    "\n",
    "model.save(NAME_MODEL)"
   ]
  },
  {
   "cell_type": "code",
   "execution_count": 7,
   "metadata": {},
   "outputs": [
    {
     "name": "stdout",
     "output_type": "stream",
     "text": [
      "2\n",
      "0\n",
      "2\n"
     ]
    }
   ],
   "source": [
    "for layer in model.layers:\n",
    "    weights = layer.get_weights() # list of numpy arrays\n",
    "    print(len(weights))"
   ]
  },
  {
   "cell_type": "code",
   "execution_count": 8,
   "metadata": {},
   "outputs": [
    {
     "data": {
      "text/plain": [
       "[array([[-0.02679589,  0.20062484, -0.21360083],\n",
       "        [ 0.14743066, -0.18368456,  0.06687592],\n",
       "        [ 0.00281978, -0.16478473,  0.13041756],\n",
       "        [-0.0643002 , -0.07842733,  0.22813056],\n",
       "        [-0.19920999,  0.0110333 ,  0.05982025],\n",
       "        [ 0.00588887,  0.04742165, -0.02385341],\n",
       "        [-0.11892188, -0.11367265, -0.06587259],\n",
       "        [ 0.08737133,  0.28176993,  0.1847966 ],\n",
       "        [-0.16671011, -0.1707824 , -0.06367636],\n",
       "        [ 0.0853565 ,  0.0111216 ,  0.04870364],\n",
       "        [ 0.2013454 , -0.20413554,  0.18794358],\n",
       "        [ 0.14942679,  0.05539157,  0.24190837],\n",
       "        [ 0.05754671,  0.22952664, -0.03662134],\n",
       "        [-0.05079515, -0.01212348,  0.28143758],\n",
       "        [-0.08395667,  0.10946396,  0.2888813 ],\n",
       "        [-0.06443364,  0.08771893, -0.10162228],\n",
       "        [ 0.29642928, -0.26800808, -0.2728571 ],\n",
       "        [-0.0910707 ,  0.2178262 ,  0.15574081],\n",
       "        [-0.03211541,  0.09832519,  0.09630358],\n",
       "        [ 0.00751365,  0.04670126,  0.16748083],\n",
       "        [-0.25966895,  0.17147249, -0.11621896],\n",
       "        [ 0.15483797,  0.06431015, -0.16476548],\n",
       "        [-0.22610427, -0.249834  , -0.19123077],\n",
       "        [-0.14165075, -0.03567697, -0.1661759 ],\n",
       "        [ 0.21016696,  0.26235175,  0.00778593],\n",
       "        [-0.06817342, -0.09641798, -0.16395667],\n",
       "        [ 0.28049493,  0.0980693 ,  0.11043385],\n",
       "        [-0.04163523,  0.05701516, -0.18423225],\n",
       "        [-0.04268914,  0.12882064, -0.24097863],\n",
       "        [-0.22249882,  0.15662321, -0.2572988 ],\n",
       "        [-0.05518053, -0.06693432,  0.00256529],\n",
       "        [-0.02492616, -0.00662998, -0.04386544],\n",
       "        [ 0.18501841, -0.24096234,  0.18200563],\n",
       "        [ 0.28737298, -0.13857462,  0.13582072],\n",
       "        [-0.13420963,  0.20599282,  0.0592815 ],\n",
       "        [-0.05901594,  0.21416235,  0.29252049],\n",
       "        [ 0.13664976, -0.26585761, -0.14584279],\n",
       "        [ 0.03048465, -0.28138831, -0.01500212],\n",
       "        [-0.1172721 ,  0.00776242, -0.0624637 ],\n",
       "        [ 0.22111152, -0.28983402, -0.24548404],\n",
       "        [-0.23139408, -0.18644525,  0.22287726],\n",
       "        [ 0.02805196,  0.05154619, -0.12122129],\n",
       "        [ 0.27668405,  0.19006447, -0.16760772],\n",
       "        [ 0.2049748 ,  0.0540336 ,  0.27484134],\n",
       "        [ 0.04353055, -0.24729499, -0.08994974],\n",
       "        [ 0.23011716,  0.00893274,  0.08917517],\n",
       "        [ 0.09671631,  0.02656975,  0.06717951],\n",
       "        [ 0.07882934, -0.22547951, -0.26141578],\n",
       "        [ 0.05536276, -0.10876382, -0.14005233],\n",
       "        [-0.29803407, -0.15655026,  0.25995553],\n",
       "        [ 0.12931195, -0.13568997, -0.07828854],\n",
       "        [-0.14630139,  0.08900319,  0.227437  ],\n",
       "        [-0.2063476 ,  0.12914655, -0.22232488],\n",
       "        [ 0.15092552, -0.23662335,  0.21853651],\n",
       "        [-0.06189132, -0.08950204, -0.16515665],\n",
       "        [-0.08894602,  0.03036167, -0.29073787],\n",
       "        [-0.07529717, -0.1305317 , -0.24032643],\n",
       "        [-0.05258656, -0.11156901,  0.03306587],\n",
       "        [-0.13797976,  0.00649488, -0.1907174 ],\n",
       "        [-0.06917343,  0.15584165,  0.03050131],\n",
       "        [-0.03520101, -0.25611293, -0.191866  ],\n",
       "        [-0.2173585 ,  0.22402157, -0.13498197],\n",
       "        [ 0.11175044, -0.28054067, -0.02434232],\n",
       "        [-0.1635063 , -0.24121843,  0.08759154],\n",
       "        [ 0.27418011,  0.10047335, -0.08103898],\n",
       "        [ 0.10817349, -0.12559702,  0.2503657 ],\n",
       "        [-0.11259162, -0.15818162, -0.14307746],\n",
       "        [-0.16336879, -0.06708612,  0.15282412],\n",
       "        [ 0.22205408, -0.05752052, -0.13757637],\n",
       "        [-0.2971895 ,  0.07435301, -0.08781309],\n",
       "        [-0.12161846,  0.15459415,  0.13152361],\n",
       "        [-0.24538073,  0.08862431, -0.06160606],\n",
       "        [-0.06425935,  0.15496524,  0.2662726 ],\n",
       "        [-0.21100275,  0.03067453, -0.19264346],\n",
       "        [ 0.26029137, -0.06013985,  0.13728897]], dtype=float32),\n",
       " array([-0.02380372,  0.01280279,  0.01101788], dtype=float32)]"
      ]
     },
     "execution_count": 8,
     "metadata": {},
     "output_type": "execute_result"
    }
   ],
   "source": [
    "weights"
   ]
  },
  {
   "cell_type": "code",
   "execution_count": null,
   "metadata": {
    "collapsed": true
   },
   "outputs": [],
   "source": [
    ""
   ]
  }
 ],
 "metadata": {
  "kernelspec": {
   "display_name": "Python 3",
   "language": "python",
   "name": "python3"
  },
  "language_info": {
   "codemirror_mode": {
    "name": "ipython",
    "version": 3.0
   },
   "file_extension": ".py",
   "mimetype": "text/x-python",
   "name": "python",
   "nbconvert_exporter": "python",
   "pygments_lexer": "ipython3",
   "version": "3.6.1"
  }
 },
 "nbformat": 4,
 "nbformat_minor": 0
}