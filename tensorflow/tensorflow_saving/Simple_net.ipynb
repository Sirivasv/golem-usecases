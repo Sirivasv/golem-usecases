{
 "cells": [
  {
   "cell_type": "code",
   "execution_count": 1,
   "metadata": {
    "collapsed": true
   },
   "outputs": [],
   "source": [
    "import numpy as np\n",
    "import pandas as pd\n",
    "import random\n",
    "import os\n",
    "\n",
    "# os.environ['PYTHONHASHSEED'] = '0'\n",
    "np.random.seed(42)\n",
    "# random.seed(42)\n",
    "\n",
    "import tensorflow as tf\n",
    "\n",
    "tf.set_random_seed(42)"
   ]
  },
  {
   "cell_type": "code",
   "execution_count": 5,
   "metadata": {
    "collapsed": true
   },
   "outputs": [],
   "source": [
    "num_examples = 50\n",
    "X = np.array([np.linspace(-2, 4, num_examples), np.linspace(-6, 6, num_examples)])\n",
    "X += np.random.randn(2, num_examples)\n",
    "x, y = X\n",
    "x_with_bias = np.array([(1., a) for a in x]).astype(np.float32)"
   ]
  },
  {
   "cell_type": "code",
   "execution_count": 6,
   "metadata": {
    "collapsed": true
   },
   "outputs": [],
   "source": [
    "losses = []\n",
    "training_steps = 50\n",
    "learning_rate = 0.002\n",
    "\n",
    "with tf.Session() as sess:\n",
    "    # Set up all the tensors, variables, and operations.\n",
    "    input = tf.constant(x_with_bias)\n",
    "    target = tf.constant(np.transpose([y]).astype(np.float32))\n",
    "    weights = tf.Variable(tf.random_normal([1000, 1], 0, 0.1))\n",
    "\n",
    "    tf.global_variables_initializer().run()\n",
    "\n",
    "    yhat = tf.matmul(input, weights)\n",
    "    yerror = tf.subtract(yhat, target)\n",
    "    loss = tf.nn.l2_loss(yerror)\n",
    "  \n",
    "    update_weights = tf.train.GradientDescentOptimizer(learning_rate).minimize(loss)\n",
    "  \n",
    "    for _ in range(training_steps):\n",
    "        # Repeatedly run the operations, updating the TensorFlow variable.\n",
    "        update_weights.run()\n",
    "        losses.append(loss.eval())\n",
    "\n",
    "    # Training is done, get the final values for the graphs\n",
    "    betas = weights.eval()\n",
    "    yhat = yhat.eval()\n",
    "    \n",
    "    saver = tf.train.Saver()\n",
    "    saver.save(sess, \"./model2\")"
   ]
  },
  {
   "cell_type": "code",
   "execution_count": null,
   "metadata": {
    "collapsed": true
   },
   "outputs": [],
   "source": [
    "# Show the fit and the loss over time.\n",
    "fig, (ax1, ax2) = plt.subplots(1, 2)\n",
    "plt.subplots_adjust(wspace=.3)\n",
    "fig.set_size_inches(10, 4)\n",
    "ax1.scatter(x, y, alpha=.7)\n",
    "ax1.scatter(x, np.transpose(yhat)[0], c=\"g\", alpha=.6)\n",
    "line_x_range = (-4, 6)\n",
    "ax1.plot(line_x_range, [betas[0] + a * betas[1] for a in line_x_range], \"g\", alpha=0.6)\n",
    "ax2.plot(range(0, training_steps), losses)\n",
    "ax2.set_ylabel(\"Loss\")\n",
    "ax2.set_xlabel(\"Training steps\")\n",
    "plt.show()"
   ]
  }
 ],
 "metadata": {
  "kernelspec": {
   "display_name": "Python 3",
   "language": "python",
   "name": "python3"
  },
  "language_info": {
   "codemirror_mode": {
    "name": "ipython",
    "version": 3
   },
   "file_extension": ".py",
   "mimetype": "text/x-python",
   "name": "python",
   "nbconvert_exporter": "python",
   "pygments_lexer": "ipython3",
   "version": "3.6.1"
  }
 },
 "nbformat": 4,
 "nbformat_minor": 2
}
