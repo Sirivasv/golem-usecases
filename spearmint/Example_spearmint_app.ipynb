{
 "cells": [
  {
   "cell_type": "code",
   "execution_count": 76,
   "metadata": {
    "collapsed": true
   },
   "outputs": [],
   "source": [
    "from __future__ import print_function\n",
    "import math\n",
    "\n",
    "FILE = \"mytry/results.dat\"\n",
    "CONFIG = \"mytry/config.json\"\n",
    "\n",
    "def f(x):\n",
    "    return x*math.log(x)\n",
    "\n",
    "def run_one_evaluation():\n",
    "    print(\"Evaluation...\")\n",
    "    with open(FILE,'r') as resfile:\n",
    "        newlines = []\n",
    "        for line in resfile.readlines():\n",
    "            values = line.split()\n",
    "            if len(values) < 3:\n",
    "                continue\n",
    "            val = values.pop(0)\n",
    "            dur = values.pop(0)\n",
    "            X = float(values[0])\n",
    "\n",
    "            if (val == 'P'):\n",
    "                val = f(X)\n",
    "                newlines.append(\"{} 1 {}\\n\".format(val, float(values[0])))\n",
    "            else:\n",
    "                newlines.append(line)\n",
    "\n",
    "    with open(FILE,'w') as outfile:\n",
    "        outfile.writelines(newlines)"
   ]
  },
  {
   "cell_type": "code",
   "execution_count": 77,
   "metadata": {
    "collapsed": true
   },
   "outputs": [],
   "source": [
    "import json\n",
    "def create_conf():\n",
    "    conf = {\"X\": {\"name\":\"X\",\n",
    "                  \"type\":\"float\",\n",
    "                  \"min\":0.1,\n",
    "                  \"max\":5.0,\n",
    "                  \"size\":1\n",
    "                 }\n",
    "           }\n",
    "    with open(CONFIG, \"w+\") as f:\n",
    "        json.dump(conf, f)"
   ]
  },
  {
   "cell_type": "code",
   "execution_count": 78,
   "metadata": {
    "collapsed": true
   },
   "outputs": [],
   "source": [
    "def run_one_update():\n",
    "    print(\"Updating suggestions...\")\n",
    "    ! python spearmint-lite/spearmint-lite.py mytry --method=GPEIOptChooser --method-args=mcmc_iters=10,noiseless=1    "
   ]
  },
  {
   "cell_type": "code",
   "execution_count": 82,
   "metadata": {
    "collapsed": true
   },
   "outputs": [],
   "source": [
    "def clean_res():\n",
    "    ! rm $FILE\n",
    "    ! rm mytry/chooser*"
   ]
  },
  {
   "cell_type": "code",
   "execution_count": 83,
   "metadata": {},
   "outputs": [
    {
     "name": "stdout",
     "output_type": "stream",
     "text": [
      "rm: cannot remove 'mytry/chooser*': No such file or directory\r\n"
     ]
    }
   ],
   "source": [
    "create_conf()\n",
    "clean_res()"
   ]
  },
  {
   "cell_type": "code",
   "execution_count": 84,
   "metadata": {
    "scrolled": false
   },
   "outputs": [
    {
     "name": "stderr",
     "output_type": "stream",
     "text": [
      "\r",
      "  0%|          | 0/9 [00:00<?, ?it/s]"
     ]
    },
    {
     "name": "stdout",
     "output_type": "stream",
     "text": [
      "Updating suggestions...\n",
      "Optimizing over 1 dimensions\n",
      "#Complete: 0 #Pending: 0\n",
      "Selected job 0 from the grid.\n"
     ]
    },
    {
     "name": "stderr",
     "output_type": "stream",
     "text": [
      "\r",
      " 11%|█         | 1/9 [00:01<00:12,  1.50s/it]"
     ]
    },
    {
     "name": "stdout",
     "output_type": "stream",
     "text": [
      "Evaluation...\n",
      "Updating suggestions...\n",
      "Optimizing over 1 dimensions\n",
      "#Complete: 1 #Pending: 0\n",
      "Selected job 1 from the grid.\n"
     ]
    },
    {
     "name": "stderr",
     "output_type": "stream",
     "text": [
      "\r",
      " 22%|██▏       | 2/9 [00:03<00:10,  1.52s/it]"
     ]
    },
    {
     "name": "stdout",
     "output_type": "stream",
     "text": [
      "Evaluation...\n",
      "Updating suggestions...\n",
      "Optimizing over 1 dimensions\n",
      "#Complete: 2 #Pending: 0\n",
      "Current best: -0.230259 (job 0)\n",
      "BURN 1/100] mean: 2.37  amp: 1.58 noise: 0.0010  min_ls: 1.1208  max_ls: 1.1208\n",
      "BURN 2/100] mean: -0.21  amp: 1.95 noise: 0.0010  min_ls: 0.2858  max_ls: 0.2858\n",
      "BURN 3/100] mean: 1.45  amp: 1.51 noise: 0.0010  min_ls: 0.2641  max_ls: 0.2641\n",
      "BURN 4/100] mean: 1.39  amp: 1.67 noise: 0.0010  min_ls: 0.6137  max_ls: 0.6137\n",
      "BURN 5/100] mean: 0.60  amp: 1.55 noise: 0.0010  min_ls: 0.2408  max_ls: 0.2408\n",
      "BURN 6/100] mean: 0.55  amp: 1.48 noise: 0.0010  min_ls: 0.4146  max_ls: 0.4146\n",
      "BURN 7/100] mean: 0.65  amp: 1.48 noise: 0.0010  min_ls: 0.2078  max_ls: 0.2078\n",
      "BURN 8/100] mean: 0.83  amp: 1.49 noise: 0.0010  min_ls: 0.4446  max_ls: 0.4446\n",
      "BURN 9/100] mean: 0.34  amp: 1.54 noise: 0.0010  min_ls: 0.0501  max_ls: 0.0501\n",
      "BURN 10/100] mean: 0.94  amp: 1.38 noise: 0.0010  min_ls: 0.4905  max_ls: 0.4905\n",
      "BURN 11/100] mean: 1.24  amp: 1.33 noise: 0.0010  min_ls: 0.5871  max_ls: 0.5871\n",
      "BURN 12/100] mean: 2.16  amp: 1.76 noise: 0.0010  min_ls: 0.3797  max_ls: 0.3797\n",
      "BURN 13/100] mean: 0.68  amp: 2.00 noise: 0.0010  min_ls: 0.4963  max_ls: 0.4963\n",
      "BURN 14/100] mean: 2.07  amp: 1.87 noise: 0.0010  min_ls: 0.7837  max_ls: 0.7837\n",
      "BURN 15/100] mean: 1.72  amp: 1.87 noise: 0.0010  min_ls: 0.6353  max_ls: 0.6353\n",
      "BURN 16/100] mean: 1.14  amp: 1.75 noise: 0.0010  min_ls: 0.8276  max_ls: 0.8276\n",
      "BURN 17/100] mean: 1.44  amp: 1.06 noise: 0.0010  min_ls: 0.5704  max_ls: 0.5704\n",
      "BURN 18/100] mean: -0.03  amp: 1.13 noise: 0.0010  min_ls: 0.0097  max_ls: 0.0097\n",
      "BURN 19/100] mean: 0.18  amp: 1.19 noise: 0.0010  min_ls: 0.2590  max_ls: 0.2590\n",
      "BURN 20/100] mean: 1.73  amp: 0.98 noise: 0.0010  min_ls: 0.2502  max_ls: 0.2502\n",
      "BURN 21/100] mean: 1.61  amp: 0.98 noise: 0.0010  min_ls: 0.2449  max_ls: 0.2449\n",
      "BURN 22/100] mean: 1.72  amp: 1.07 noise: 0.0010  min_ls: 0.2256  max_ls: 0.2256\n",
      "BURN 23/100] mean: 2.05  amp: 1.13 noise: 0.0010  min_ls: 0.5321  max_ls: 0.5321\n",
      "BURN 24/100] mean: 2.02  amp: 1.12 noise: 0.0010  min_ls: 0.5039  max_ls: 0.5039\n",
      "BURN 25/100] mean: 1.92  amp: 1.13 noise: 0.0010  min_ls: 0.2147  max_ls: 0.2147\n",
      "BURN 26/100] mean: 1.59  amp: 0.98 noise: 0.0010  min_ls: 0.3603  max_ls: 0.3603\n",
      "BURN 27/100] mean: 1.38  amp: 1.00 noise: 0.0010  min_ls: 0.2569  max_ls: 0.2569\n",
      "BURN 28/100] mean: 1.36  amp: 1.02 noise: 0.0010  min_ls: 0.1188  max_ls: 0.1188\n",
      "BURN 29/100] mean: 0.45  amp: 1.28 noise: 0.0010  min_ls: 0.5331  max_ls: 0.5331\n",
      "BURN 30/100] mean: 1.01  amp: 1.75 noise: 0.0010  min_ls: 0.1575  max_ls: 0.1575\n",
      "BURN 31/100] mean: 1.59  amp: 1.16 noise: 0.0010  min_ls: 0.0519  max_ls: 0.0519\n",
      "BURN 32/100] mean: 0.18  amp: 1.50 noise: 0.0010  min_ls: 0.3446  max_ls: 0.3446\n",
      "BURN 33/100] mean: 1.85  amp: 1.71 noise: 0.0010  min_ls: 0.3553  max_ls: 0.3553\n",
      "BURN 34/100] mean: 0.84  amp: 2.02 noise: 0.0010  min_ls: 0.8044  max_ls: 0.8044\n",
      "BURN 35/100] mean: 0.45  amp: 1.96 noise: 0.0010  min_ls: 0.6953  max_ls: 0.6953\n",
      "BURN 36/100] mean: 0.93  amp: 2.24 noise: 0.0010  min_ls: 0.0724  max_ls: 0.0724\n",
      "BURN 37/100] mean: 0.96  amp: 2.25 noise: 0.0010  min_ls: 0.6774  max_ls: 0.6774\n",
      "BURN 38/100] mean: 2.05  amp: 1.72 noise: 0.0010  min_ls: 0.4966  max_ls: 0.4966\n",
      "BURN 39/100] mean: 1.28  amp: 1.56 noise: 0.0010  min_ls: 0.2033  max_ls: 0.2033\n",
      "BURN 40/100] mean: 1.23  amp: 1.60 noise: 0.0010  min_ls: 0.2112  max_ls: 0.2112\n",
      "BURN 41/100] mean: 0.36  amp: 2.44 noise: 0.0010  min_ls: 0.2056  max_ls: 0.2056\n",
      "BURN 42/100] mean: 0.56  amp: 2.42 noise: 0.0010  min_ls: 0.2505  max_ls: 0.2505\n",
      "BURN 43/100] mean: 1.34  amp: 1.85 noise: 0.0010  min_ls: 0.1559  max_ls: 0.1559\n",
      "BURN 44/100] mean: 1.80  amp: 1.84 noise: 0.0010  min_ls: 0.0512  max_ls: 0.0512\n",
      "BURN 45/100] mean: 2.29  amp: 1.85 noise: 0.0010  min_ls: 0.0644  max_ls: 0.0644\n",
      "BURN 46/100] mean: 1.21  amp: 2.57 noise: 0.0010  min_ls: 0.9161  max_ls: 0.9161\n",
      "BURN 47/100] mean: 1.31  amp: 2.57 noise: 0.0010  min_ls: 1.0286  max_ls: 1.0286\n",
      "BURN 48/100] mean: 1.01  amp: 4.26 noise: 0.0010  min_ls: 1.2256  max_ls: 1.2256\n",
      "BURN 49/100] mean: 1.33  amp: 4.15 noise: 0.0010  min_ls: 1.4519  max_ls: 1.4519\n",
      "BURN 50/100] mean: 2.38  amp: 4.38 noise: 0.0010  min_ls: 1.6405  max_ls: 1.6405\n",
      "BURN 51/100] mean: -0.20  amp: 4.62 noise: 0.0010  min_ls: 1.7891  max_ls: 1.7891\n",
      "BURN 52/100] mean: 2.19  amp: 4.35 noise: 0.0010  min_ls: 0.3855  max_ls: 0.3855\n",
      "BURN 53/100] mean: 0.96  amp: 4.38 noise: 0.0010  min_ls: 0.1886  max_ls: 0.1886\n",
      "BURN 54/100] mean: 0.88  amp: 4.38 noise: 0.0010  min_ls: 0.4945  max_ls: 0.4945\n",
      "BURN 55/100] mean: 1.88  amp: 4.43 noise: 0.0010  min_ls: 0.3315  max_ls: 0.3315\n",
      "BURN 56/100] mean: -0.06  amp: 4.53 noise: 0.0010  min_ls: 0.2607  max_ls: 0.2607\n",
      "BURN 57/100] mean: 0.54  amp: 4.62 noise: 0.0010  min_ls: 0.0086  max_ls: 0.0086\n",
      "BURN 58/100] mean: 0.30  amp: 4.70 noise: 0.0010  min_ls: 0.9746  max_ls: 0.9746\n",
      "BURN 59/100] mean: 0.04  amp: 4.64 noise: 0.0010  min_ls: 0.6649  max_ls: 0.6649\n",
      "BURN 60/100] mean: 0.24  amp: 4.75 noise: 0.0010  min_ls: 0.8852  max_ls: 0.8852\n",
      "BURN 61/100] mean: 2.22  amp: 4.33 noise: 0.0010  min_ls: 1.2800  max_ls: 1.2800\n",
      "BURN 62/100] mean: 1.17  amp: 4.54 noise: 0.0010  min_ls: 1.0035  max_ls: 1.0035\n",
      "BURN 63/100] mean: 1.20  amp: 1.92 noise: 0.0010  min_ls: 0.6215  max_ls: 0.6215\n",
      "BURN 64/100] mean: 0.83  amp: 2.12 noise: 0.0010  min_ls: 0.5892  max_ls: 0.5892\n",
      "BURN 65/100] mean: 1.28  amp: 2.09 noise: 0.0010  min_ls: 1.1508  max_ls: 1.1508\n",
      "BURN 66/100] mean: 1.20  amp: 2.10 noise: 0.0010  min_ls: 0.9308  max_ls: 0.9308\n",
      "BURN 67/100] mean: 1.92  amp: 2.67 noise: 0.0010  min_ls: 0.0700  max_ls: 0.0700\n",
      "BURN 68/100] mean: 0.45  amp: 2.72 noise: 0.0010  min_ls: 1.1356  max_ls: 1.1356\n",
      "BURN 69/100] mean: 1.27  amp: 2.72 noise: 0.0010  min_ls: 1.3868  max_ls: 1.3868\n",
      "BURN 70/100] mean: 1.96  amp: 2.74 noise: 0.0010  min_ls: 0.4031  max_ls: 0.4031\n",
      "BURN 71/100] mean: 1.06  amp: 2.62 noise: 0.0010  min_ls: 0.3506  max_ls: 0.3506\n",
      "BURN 72/100] mean: 0.51  amp: 2.66 noise: 0.0010  min_ls: 0.8187  max_ls: 0.8187\n",
      "BURN 73/100] mean: 1.08  amp: 2.65 noise: 0.0010  min_ls: 1.1339  max_ls: 1.1339\n",
      "BURN 74/100] mean: 1.72  amp: 2.11 noise: 0.0010  min_ls: 0.8205  max_ls: 0.8205\n",
      "BURN 75/100] mean: 1.59  amp: 3.28 noise: 0.0010  min_ls: 1.5845  max_ls: 1.5845\n",
      "BURN 76/100] mean: 2.38  amp: 3.25 noise: 0.0010  min_ls: 1.3035  max_ls: 1.3035\n",
      "BURN 77/100] mean: -0.18  amp: 3.27 noise: 0.0010  min_ls: 0.6877  max_ls: 0.6877\n",
      "BURN 78/100] mean: 0.34  amp: 3.27 noise: 0.0010  min_ls: 0.1098  max_ls: 0.1098\n",
      "BURN 79/100] mean: 1.04  amp: 2.89 noise: 0.0010  min_ls: 0.8178  max_ls: 0.8178\n",
      "BURN 80/100] mean: 0.23  amp: 2.94 noise: 0.0010  min_ls: 1.2943  max_ls: 1.2943\n",
      "BURN 81/100] mean: 1.68  amp: 3.02 noise: 0.0010  min_ls: 0.9650  max_ls: 0.9650\n",
      "BURN 82/100] mean: 0.02  amp: 3.42 noise: 0.0010  min_ls: 0.0220  max_ls: 0.0220\n",
      "BURN 83/100] mean: 0.58  amp: 3.44 noise: 0.0010  min_ls: 0.1296  max_ls: 0.1296\n",
      "BURN 84/100] mean: 0.44  amp: 3.43 noise: 0.0010  min_ls: 0.2557  max_ls: 0.2557\n",
      "BURN 85/100] mean: 2.12  amp: 3.55 noise: 0.0010  min_ls: 0.6223  max_ls: 0.6223\n",
      "BURN 86/100] mean: 1.88  amp: 3.67 noise: 0.0010  min_ls: 0.6106  max_ls: 0.6106\n",
      "BURN 87/100] mean: 0.54  amp: 3.56 noise: 0.0010  min_ls: 1.2996  max_ls: 1.2996\n",
      "BURN 88/100] mean: 1.77  amp: 3.60 noise: 0.0010  min_ls: 0.6783  max_ls: 0.6783\n",
      "BURN 89/100] mean: 0.13  amp: 3.62 noise: 0.0010  min_ls: 0.6241  max_ls: 0.6241\n",
      "BURN 90/100] mean: 0.45  amp: 3.62 noise: 0.0010  min_ls: 0.9560  max_ls: 0.9560\n",
      "BURN 91/100] mean: 0.61  amp: 3.62 noise: 0.0010  min_ls: 1.0635  max_ls: 1.0635\n",
      "BURN 92/100] mean: -0.22  amp: 3.89 noise: 0.0010  min_ls: 0.9626  max_ls: 0.9626\n",
      "BURN 93/100] mean: 1.39  amp: 4.08 noise: 0.0010  min_ls: 1.9528  max_ls: 1.9528\n",
      "BURN 94/100] mean: 0.04  amp: 4.57 noise: 0.0010  min_ls: 0.6272  max_ls: 0.6272\n",
      "BURN 95/100] mean: 1.78  amp: 4.59 noise: 0.0010  min_ls: 1.5272  max_ls: 1.5272\n",
      "BURN 96/100] mean: 1.27  amp: 4.54 noise: 0.0010  min_ls: 1.0211  max_ls: 1.0211\n",
      "BURN 97/100] mean: 1.62  amp: 4.51 noise: 0.0010  min_ls: 0.9065  max_ls: 0.9065\n",
      "BURN 98/100] mean: 0.77  amp: 4.44 noise: 0.0010  min_ls: 0.8953  max_ls: 0.8953\n",
      "BURN 99/100] mean: 0.76  amp: 4.57 noise: 0.0010  min_ls: 0.8770  max_ls: 0.8770\n",
      "BURN 100/100] mean: 1.95  amp: 4.59 noise: 0.0010  min_ls: 1.0440  max_ls: 1.0440\n",
      "1/10] mean: 1.97  amp: 4.58  noise: 0.0010 min_ls: 1.7903  max_ls: 1.7903\n",
      "2/10] mean: 1.79  amp: 4.63  noise: 0.0010 min_ls: 0.6103  max_ls: 0.6103\n",
      "3/10] mean: 1.74  amp: 4.63  noise: 0.0010 min_ls: 1.2728  max_ls: 1.2728\n",
      "4/10] mean: 1.50  amp: 4.62  noise: 0.0010 min_ls: 0.0210  max_ls: 0.0210\n",
      "5/10] mean: 1.84  amp: 4.81  noise: 0.0010 min_ls: 1.3237  max_ls: 1.3237\n",
      "6/10] mean: 1.58  amp: 4.80  noise: 0.0010 min_ls: 1.9522  max_ls: 1.9522\n",
      "7/10] mean: 1.67  amp: 4.77  noise: 0.0010 min_ls: 0.2158  max_ls: 0.2158\n",
      "8/10] mean: 0.47  amp: 4.71  noise: 0.0010 min_ls: 0.6385  max_ls: 0.6385\n",
      "9/10] mean: 2.05  amp: 5.03  noise: 0.0010 min_ls: 0.6805  max_ls: 0.6805\n",
      "10/10] mean: 1.95  amp: 5.03  noise: 0.0010 min_ls: 0.7205  max_ls: 0.7205\n"
     ]
    },
    {
     "name": "stdout",
     "output_type": "stream",
     "text": [
      "Selected job 1000 from the grid.\r\n"
     ]
    },
    {
     "name": "stderr",
     "output_type": "stream",
     "text": [
      "\r",
      " 33%|███▎      | 3/9 [00:04<00:09,  1.61s/it]"
     ]
    },
    {
     "name": "stdout",
     "output_type": "stream",
     "text": [
      "Evaluation...\n",
      "Updating suggestions...\n",
      "Optimizing over 1 dimensions\n",
      "#Complete: 3 #Pending: 0\n",
      "Current best: -0.230259 (job 0)\n",
      "1/10] mean: 6.52  amp: 4.49  noise: 0.0010 min_ls: 1.0830  max_ls: 1.0830\n",
      "2/10] mean: 3.72  amp: 3.92  noise: 0.0010 min_ls: 0.0829  max_ls: 0.0829\n",
      "3/10] mean: 3.46  amp: 3.92  noise: 0.0010 min_ls: 0.9086  max_ls: 0.9086\n",
      "4/10] mean: 3.45  amp: 3.92  noise: 0.0010 min_ls: 0.4909  max_ls: 0.4909\n",
      "5/10] mean: 3.64  amp: 4.78  noise: 0.0010 min_ls: 0.9378  max_ls: 0.9378\n",
      "6/10] mean: 5.40  amp: 7.83  noise: 0.0010 min_ls: 1.0102  max_ls: 1.0102\n",
      "7/10] mean: 2.49  amp: 8.22  noise: 0.0010 min_ls: 1.8353  max_ls: 1.8353\n",
      "8/10] mean: 2.10  amp: 8.29  noise: 0.0010 min_ls: 0.2500  max_ls: 0.2500\n",
      "9/10] mean: 5.22  amp: 7.63  noise: 0.0010 min_ls: 0.5070  max_ls: 0.5070\n",
      "10/10] mean: 4.06  amp: 7.57  noise: 0.0010 min_ls: 0.5457  max_ls: 0.5457\n",
      "Selected job 1000 from the grid.\n"
     ]
    },
    {
     "name": "stderr",
     "output_type": "stream",
     "text": [
      "\r",
      " 44%|████▍     | 4/9 [00:06<00:08,  1.68s/it]"
     ]
    },
    {
     "name": "stdout",
     "output_type": "stream",
     "text": [
      "Evaluation...\n",
      "Updating suggestions...\n",
      "Optimizing over 1 dimensions\n",
      "#Complete: 4 #Pending: 0\n",
      "Current best: -0.230259 (job 0)\n",
      "1/10] mean: 3.65  amp: 7.36  noise: 0.0010 min_ls: 1.8655  max_ls: 1.8655\n",
      "2/10] mean: 4.04  amp: 7.36  noise: 0.0010 min_ls: 1.2096  max_ls: 1.2096\n",
      "3/10] mean: 7.65  amp: 7.32  noise: 0.0010 min_ls: 1.2444  max_ls: 1.2444\n",
      "4/10] mean: 0.54  amp: 6.89  noise: 0.0010 min_ls: 1.4095  max_ls: 1.4095\n",
      "5/10] mean: 0.40  amp: 6.87  noise: 0.0010 min_ls: 0.8110  max_ls: 0.8110\n",
      "6/10] mean: 1.37  amp: 6.77  noise: 0.0010 min_ls: 0.8209  max_ls: 0.8209\n",
      "7/10] mean: 4.01  amp: 7.11  noise: 0.0010 min_ls: 1.6048  max_ls: 1.6048\n",
      "8/10] mean: 5.53  amp: 7.38  noise: 0.0010 min_ls: 1.8560  max_ls: 1.8560\n",
      "9/10] mean: 5.32  amp: 7.43  noise: 0.0010 min_ls: 1.7476  max_ls: 1.7476\n",
      "10/10] mean: 3.64  amp: 7.39  noise: 0.0010 min_ls: 0.4954  max_ls: 0.4954\n",
      "Selected job 1000 from the grid.\n"
     ]
    },
    {
     "name": "stderr",
     "output_type": "stream",
     "text": [
      "\r",
      " 56%|█████▌    | 5/9 [00:08<00:06,  1.72s/it]"
     ]
    },
    {
     "name": "stdout",
     "output_type": "stream",
     "text": [
      "Evaluation...\n",
      "Updating suggestions...\n",
      "Optimizing over 1 dimensions\n",
      "#Complete: 5 #Pending: 0\n",
      "Current best: -0.367744 (job 4)\n",
      "1/10] mean: 1.74  amp: 7.30  noise: 0.0010 min_ls: 1.4088  max_ls: 1.4088\n",
      "2/10] mean: 5.00  amp: 9.84  noise: 0.0010 min_ls: 1.3004  max_ls: 1.3004\n",
      "3/10] mean: 2.51  amp: 9.86  noise: 0.0010 min_ls: 0.8832  max_ls: 0.8832\n",
      "4/10] mean: 7.42  amp: 9.47  noise: 0.0010 min_ls: 1.0454  max_ls: 1.0454\n",
      "5/10] mean: 4.33  amp: 9.22  noise: 0.0010 min_ls: 0.9892  max_ls: 0.9892\n",
      "6/10] mean: 6.09  amp: 9.28  noise: 0.0010 min_ls: 1.1602  max_ls: 1.1602\n",
      "7/10] mean: 4.17  amp: 9.28  noise: 0.0010 min_ls: 1.2554  max_ls: 1.2554\n",
      "8/10] mean: 6.39  amp: 8.94  noise: 0.0010 min_ls: 1.4080  max_ls: 1.4080\n",
      "9/10] mean: 4.84  amp: 8.80  noise: 0.0010 min_ls: 0.9887  max_ls: 0.9887\n",
      "10/10] mean: 5.31  amp: 8.74  noise: 0.0010 min_ls: 0.9739  max_ls: 0.9739\n",
      "Selected job 1000 from the grid.\n"
     ]
    },
    {
     "name": "stderr",
     "output_type": "stream",
     "text": [
      "\r",
      " 67%|██████▋   | 6/9 [00:10<00:05,  1.76s/it]"
     ]
    },
    {
     "name": "stdout",
     "output_type": "stream",
     "text": [
      "Evaluation...\n",
      "Updating suggestions...\n",
      "Optimizing over 1 dimensions\n",
      "#Complete: 6 #Pending: 0\n",
      "Current best: -0.367744 (job 4)\n",
      "1/10] mean: 4.48  amp: 8.88  noise: 0.0010 min_ls: 1.0642  max_ls: 1.0642\n",
      "2/10] mean: 2.04  amp: 9.00  noise: 0.0010 min_ls: 1.2040  max_ls: 1.2040\n",
      "3/10] mean: 1.87  amp: 9.01  noise: 0.0010 min_ls: 0.8327  max_ls: 0.8327\n",
      "4/10] mean: 7.15  amp: 9.83  noise: 0.0010 min_ls: 0.8674  max_ls: 0.8674\n",
      "5/10] mean: 3.90  amp: 10.04  noise: 0.0010 min_ls: 1.0778  max_ls: 1.0778\n",
      "6/10] mean: 3.25  amp: 9.95  noise: 0.0010 min_ls: 0.9752  max_ls: 0.9752\n",
      "7/10] mean: 7.15  amp: 10.01  noise: 0.0010 min_ls: 1.4154  max_ls: 1.4154\n",
      "8/10] mean: -0.11  amp: 10.65  noise: 0.0010 min_ls: 1.0139  max_ls: 1.0139\n",
      "9/10] mean: 0.53  amp: 10.66  noise: 0.0010 min_ls: 1.2869  max_ls: 1.2869\n",
      "10/10] mean: 0.76  amp: 10.94  noise: 0.0010 min_ls: 1.0497  max_ls: 1.0497\n",
      "Selected job 1000 from the grid.\n"
     ]
    },
    {
     "name": "stderr",
     "output_type": "stream",
     "text": [
      "\r",
      " 78%|███████▊  | 7/9 [00:12<00:03,  1.77s/it]"
     ]
    },
    {
     "name": "stdout",
     "output_type": "stream",
     "text": [
      "Evaluation...\n",
      "Updating suggestions...\n",
      "Optimizing over 1 dimensions\n",
      "#Complete: 7 #Pending: 0\n",
      "Current best: -0.367744 (job 4)\n",
      "1/10] mean: 6.16  amp: 11.24  noise: 0.0010 min_ls: 0.9380  max_ls: 0.9380\n",
      "2/10] mean: 4.68  amp: 11.27  noise: 0.0010 min_ls: 1.3722  max_ls: 1.3722\n",
      "3/10] mean: 2.62  amp: 11.36  noise: 0.0010 min_ls: 1.2565  max_ls: 1.2565\n",
      "4/10] mean: 3.32  amp: 11.38  noise: 0.0010 min_ls: 1.3033  max_ls: 1.3033\n",
      "5/10] mean: 4.22  amp: 11.38  noise: 0.0010 min_ls: 1.6020  max_ls: 1.6020\n",
      "6/10] mean: 6.92  amp: 11.42  noise: 0.0010 min_ls: 0.6089  max_ls: 0.6089\n",
      "7/10] mean: 1.10  amp: 11.74  noise: 0.0010 min_ls: 1.6362  max_ls: 1.6362\n",
      "8/10] mean: 1.70  amp: 11.75  noise: 0.0010 min_ls: 0.7255  max_ls: 0.7255\n",
      "9/10] mean: 4.99  amp: 11.75  noise: 0.0010 min_ls: 1.6721  max_ls: 1.6721\n",
      "10/10] mean: 5.05  amp: 12.02  noise: 0.0010 min_ls: 0.7422  max_ls: 0.7422\n",
      "Selected job 1000 from the grid.\n"
     ]
    },
    {
     "name": "stderr",
     "output_type": "stream",
     "text": [
      "\r",
      " 89%|████████▉ | 8/9 [00:14<00:01,  1.79s/it]"
     ]
    },
    {
     "name": "stdout",
     "output_type": "stream",
     "text": [
      "Evaluation...\n",
      "Updating suggestions...\n",
      "Optimizing over 1 dimensions\n",
      "#Complete: 8 #Pending: 0\n",
      "Current best: -0.367744 (job 4)\n",
      "1/10] mean: 5.01  amp: 12.02  noise: 0.0010 min_ls: 1.5557  max_ls: 1.5557\n",
      "2/10] mean: 3.31  amp: 12.04  noise: 0.0010 min_ls: 1.6650  max_ls: 1.6650\n",
      "3/10] mean: 0.82  amp: 11.67  noise: 0.0010 min_ls: 1.0356  max_ls: 1.0356\n",
      "4/10] mean: 2.35  amp: 12.05  noise: 0.0010 min_ls: 1.0086  max_ls: 1.0086\n",
      "5/10] mean: 5.41  amp: 12.12  noise: 0.0010 min_ls: 1.8012  max_ls: 1.8012\n",
      "6/10] mean: 6.44  amp: 12.07  noise: 0.0010 min_ls: 1.4701  max_ls: 1.4701\n",
      "7/10] mean: 4.39  amp: 12.04  noise: 0.0010 min_ls: 1.6644  max_ls: 1.6644\n",
      "8/10] mean: 5.82  amp: 11.95  noise: 0.0010 min_ls: 1.5935  max_ls: 1.5935\n",
      "9/10] mean: 2.00  amp: 8.96  noise: 0.0010 min_ls: 1.0841  max_ls: 1.0841\n",
      "10/10] mean: 6.77  amp: 8.98  noise: 0.0010 min_ls: 1.0627  max_ls: 1.0627\n",
      "Selected job 1000 from the grid.\n"
     ]
    },
    {
     "name": "stderr",
     "output_type": "stream",
     "text": [
      "\r",
      "100%|██████████| 9/9 [00:15<00:00,  1.81s/it]"
     ]
    },
    {
     "name": "stdout",
     "output_type": "stream",
     "text": [
      "Evaluation...\n"
     ]
    },
    {
     "name": "stderr",
     "output_type": "stream",
     "text": [
      "\n"
     ]
    }
   ],
   "source": [
    "from tqdm import tqdm\n",
    "import time\n",
    "for _ in tqdm(range(9)):\n",
    "    run_one_update()\n",
    "    run_one_evaluation()"
   ]
  },
  {
   "cell_type": "code",
   "execution_count": 85,
   "metadata": {
    "collapsed": true
   },
   "outputs": [],
   "source": [
    "xs = []\n",
    "ys = []\n",
    "with open(FILE,'r') as resfile:\n",
    "    for line in resfile.readlines():\n",
    "        values = line.split()\n",
    "        if len(values) < 3:\n",
    "            continue\n",
    "        y = values.pop(0)\n",
    "        dur = values.pop(0)\n",
    "        x = float(values[0])\n",
    "        if (dur == 'P'):\n",
    "            continue\n",
    "        else:\n",
    "            xs.append(x)\n",
    "            ys.append(y)"
   ]
  },
  {
   "cell_type": "code",
   "execution_count": 86,
   "metadata": {},
   "outputs": [
    {
     "data": {
      "text/plain": [
       "([0.1,\n",
       "  2.55,\n",
       "  5.0,\n",
       "  0.983725986297,\n",
       "  0.377898426321,\n",
       "  0.4399955464,\n",
       "  0.436327536009,\n",
       "  0.433455144881,\n",
       "  0.422382353278],\n",
       " ['-0.230258509299',\n",
       "  '2.38703806588',\n",
       "  '8.04718956217',\n",
       "  '-0.0161408676946',\n",
       "  '-0.367744232462',\n",
       "  '-0.361232240169',\n",
       "  '-0.361873516441',\n",
       "  '-0.362354179819',\n",
       "  '-0.364027834043'])"
      ]
     },
     "execution_count": 86,
     "metadata": {},
     "output_type": "execute_result"
    }
   ],
   "source": [
    "xs, ys"
   ]
  },
  {
   "cell_type": "code",
   "execution_count": 87,
   "metadata": {},
   "outputs": [
    {
     "name": "stdout",
     "output_type": "stream",
     "text": [
      "2.0.15\n"
     ]
    },
    {
     "data": {
      "text/html": [
       "<script>requirejs.config({paths: { 'plotly': ['https://cdn.plot.ly/plotly-latest.min']},});if(!window.Plotly) {{require(['plotly'],function(plotly) {window.Plotly=plotly;});}}</script>"
      ],
      "text/vnd.plotly.v1+html": [
       "<script>requirejs.config({paths: { 'plotly': ['https://cdn.plot.ly/plotly-latest.min']},});if(!window.Plotly) {{require(['plotly'],function(plotly) {window.Plotly=plotly;});}}</script>"
      ]
     },
     "metadata": {},
     "output_type": "display_data"
    }
   ],
   "source": [
    "from plotly import __version__\n",
    "from plotly.offline import download_plotlyjs, init_notebook_mode, plot, iplot\n",
    "\n",
    "print(__version__)\n",
    "\n",
    "init_notebook_mode(connected=True)"
   ]
  },
  {
   "cell_type": "code",
   "execution_count": 88,
   "metadata": {},
   "outputs": [
    {
     "data": {
      "text/plain": [
       "'file:///home/jacek/spr_experiments/temp-plot.html'"
      ]
     },
     "execution_count": 88,
     "metadata": {},
     "output_type": "execute_result"
    }
   ],
   "source": [
    "from plotly.graph_objs import Scatter\n",
    "plot([Scatter(x=xs, y=ys, mode='markers',)])"
   ]
  },
  {
   "cell_type": "code",
   "execution_count": null,
   "metadata": {
    "collapsed": true
   },
   "outputs": [],
   "source": []
  }
 ],
 "metadata": {
  "kernelspec": {
   "display_name": "spr_experiments",
   "language": "python",
   "name": "spr_experiments"
  },
  "language_info": {
   "codemirror_mode": {
    "name": "ipython",
    "version": 2
   },
   "file_extension": ".py",
   "mimetype": "text/x-python",
   "name": "python",
   "nbconvert_exporter": "python",
   "pygments_lexer": "ipython2",
   "version": "2.7.13"
  }
 },
 "nbformat": 4,
 "nbformat_minor": 2
}
