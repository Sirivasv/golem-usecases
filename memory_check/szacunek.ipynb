{
 "cells": [
  {
   "cell_type": "markdown",
   "metadata": {},
   "source": [
    "# Szacowanie liczby subtasków do sprawdzenia"
   ]
  },
  {
   "cell_type": "markdown",
   "metadata": {},
   "source": [
    "*będę wdzięczny za uwagi, weryfikcję i poprawki - [jacek@golem.network](jacek@golem.network)*"
   ]
  },
  {
   "cell_type": "markdown",
   "metadata": {},
   "source": [
    "## Wstęp"
   ]
  },
  {
   "cell_type": "markdown",
   "metadata": {},
   "source": [
    "Bardzo prosty model biorący pod uwagę ceny zadań w sieci Golemowej daje niezwykle zaskakujące rezultaty.\n",
    "Okazuje się, że przy stałym prawdopodobieństwie oszukiwania przez providera i stałych kosztach obliczeń, marży \n",
    "i kary za złe wykonanie zadania, liczba subtasków do weryfikacji **jest niezależna od rozmiaru zadania i bardzo mała (mniejsza niż 10, a zwykle mniejsza niż 3)**"
   ]
  },
  {
   "cell_type": "markdown",
   "metadata": {},
   "source": [
    "Intuicja, jaka za tym stoi, jest dość jasna. W sekcji **Kilka przypadków** jest przestawione rozwinięcie tego tematu (pierwszy podpunkt, $s=1, R_{-}=R_{+}=0$.  \n",
    "Pierwsza obserwacja jest taka, że providerowi nigdy nie opłaca się zawsze oszukiwać. (oczywiste, że gdyby zawsze to robił, a my sprawdzamy chodziaż jeden subtask, to na pewno zostanie złapany i nic nie zarobi, a straci czas na samo uruchomienie zadania, transfer danych itp).  \n",
    "Załóżmy więc, że provider policzył już jeden subtask. Jeśli prowizja jest mała, to pomińmy ją przy ocenie kosztów - wtedy wartość pracy, którą wykonał provider, jest równa $\\frac{1}{M}$ wartości zadania, gdzie $M$ to liczba wszystkich subtasków. Jeśli pozostałe policzy źle, a my sprawdzamy dla uproszczenia tylko jeden subtask, to ma szasę wygrać z prawdodpodobieństwem $\\frac{1}{M}$ zapłatę $1 - \\frac{1}{M}$ (zapłata wynosi $1$, ale provider wydał już część na obliczenie części zadania) i z prawdodpodobieństwem $\\frac{M-1}{M}$ przegrać $\\frac{1}{M}$ (właśnie te już zainwestowane zasoby). Widać, że rzeczy się upraszczają - i wychodzi na to, że wartość oczekiwana jest nadal $0$.  \n",
    "To rozumowanie można oczywiście zastosować do większej liczby obliczonych uczciwie subtasków.  \n",
    "Czyli podsumowując, intuicja jest taka, że licząc uczciwie provider też inwestuje, i jego ryzyko równoważy się z ryzykiem requestora - stąd bierze się stała liczba wymaganych do przetestowania subtasków."
   ]
  },
  {
   "cell_type": "markdown",
   "metadata": {},
   "source": [
    "## Model"
   ]
  },
  {
   "cell_type": "markdown",
   "metadata": {},
   "source": [
    "### Oznaczenia"
   ]
  },
  {
   "cell_type": "markdown",
   "metadata": {},
   "source": [
    "$M$ - liczba subtasków  \n",
    "$l$ - prawdopodobieństwo, że provider będzie oszukiwał  \n",
    "$s$ - liczba subtasków, które weryfikujemy  \n",
    "$K$ - koszt zadania (koszt surowej mocy obliczeniowej, prądu itp)  \n",
    "$R_{+}$ - marża providera  \n",
    "Czyli całkowita zapłata za zadanie to $K + R_{+}$.  \n",
    "  \n",
    "$R_{-}$ - kara za złe wykonanie zadania  \n",
    "$\\Pr = \\Pr(s, l, M)$ - prawdopodobieństwo złapania nieuczciwego providera  \n",
    "E - wartość oczekiwana kosztów, jakie ponosi provider (jeśli ujemne, to znaczy, że provider zarobił) "
   ]
  },
  {
   "cell_type": "markdown",
   "metadata": {},
   "source": [
    "### Wartość oczekiwana kosztów providera"
   ]
  },
  {
   "cell_type": "markdown",
   "metadata": {},
   "source": [
    "$ E = \\textrm{szansa bycia złapanym} * \\textrm{koszta bycia złapanym} + (1 - \\textrm{szansa bycia złapanym}) * \\textrm{koszta nie bycia złapanym}$"
   ]
  },
  {
   "cell_type": "markdown",
   "metadata": {},
   "source": [
    "Skoro provider zawsze wykonuje uczciwie $(1-l)*M$ subtasków, a koszt jednego $\\frac{\\textrm{koszt wszystkich zadań}}{\\textrm{liczba wszystich zadań}} = \\frac{K}{M}$, to zawsze (tzn niezależnie, czy zostanie złapany, czy nie) ponosi koszt $(1-l)*M * \\frac{K}{M} = (1-l)*K$"
   ]
  },
  {
   "cell_type": "markdown",
   "metadata": {},
   "source": [
    "**Koszt bycia złapanym**  \n",
    "Jeśli provider zostanie złapany, to ponosi koszt obliczeń, które wykonał uczciwie, plus płaci karę za złe wykonanie zadania, czyli w sumie $(1-l)K + R_{-}$"
   ]
  },
  {
   "cell_type": "markdown",
   "metadata": {},
   "source": [
    "** Koszt nie bycia złapanym**  \n",
    "Jeśli provider nie zostanie złapany, to ponosi koszt obliczeń, które wykonał uczciwie,\n",
    "ale zarabia $\\textrm{koszt zadania} + \\textrm{marża providera} = K + R_{+}$,  \n",
    "w sumie wychodzi więc $(1-l)K - (K + R_{+})$"
   ]
  },
  {
   "cell_type": "markdown",
   "metadata": {},
   "source": [
    "Mamy więc, że  \n",
    "\n",
    "$$E = \\Pr((1-l)K + R_{-}) + (1-\\Pr)((1-l)K - (K + R_{+})) = \\\\\n",
    "\\Pr(1-l)K + \\Pr R_{-} + (1-l)K - \\Pr(1-l)K - (1-\\Pr)(K + R_{+}) = \\\\\n",
    "\\Pr R_{-} + (1-l)K - (1-\\Pr)K - (1-\\Pr)R_{+} = \\\\\n",
    "\\Pr R_{-} - lK + \\Pr K - (1-\\Pr)R_{+} = \\\\\n",
    "\\Pr(R_{-} + \\Pr R_{+} + \\Pr K - R_{+} - lK = \\\\\n",
    "\\Pr(R_{-} + R_{+} + K) - R_{+} - lK $$"
   ]
  },
  {
   "cell_type": "markdown",
   "metadata": {},
   "source": [
    "**Prawdopodobieństwo złapania**\n",
    "Jeśli zadanie składa się z $M$ niezależnych subtasków, z czego $lM$ jest wykonanych nieuczciwie, a do złapania providera wystarczy znaleźć jedno nieuczciwie wykonane, to szansa na to jest równa  \n",
    "$$\\Pr = 1 - (1-l)^s$$  \n",
    "w przypadku losowań z powtórzeniami lub\n",
    "$$\\Pr = 1 - \\frac{(1-l)M \\choose s}{M \\choose s}$$  \n",
    "w przypadku losowań bez powtórzeń.  \n",
    "Przypadek z powtórzeniami jest pesymistycznym oszacowaniem przypadku bez powtórzeń, a dla dużych $M$ i małych $l$ dobrze go przybliża, a ułatwia zorientowanie się w równaniu, dlatego dalej będę używał pierwszego wzoru."
   ]
  },
  {
   "cell_type": "markdown",
   "metadata": {},
   "source": [
    "Wstawiając do równania na $E$ dostajemy\n",
    "$$E = (1 - (1 - l)^s)(R_{-} + R_{+} + K) - R_{+} - lK$$\n",
    "\n",
    "**Jak widać, rozwiązanie nie zależy od M** - to oznacza, że liczba subtasków, które musimy spradzić, jest stała i nie rośnie z rozmiarem zadania (z pewną uwagą na końcu)."
   ]
  },
  {
   "cell_type": "markdown",
   "metadata": {},
   "source": [
    "## Kilka przypadków"
   ]
  },
  {
   "cell_type": "markdown",
   "metadata": {},
   "source": [
    "Teraz sprawdźmy, co się dzieje w kilku przypadkach:  \n",
    " - Jeśli nie ma kar ani nagród (tzn marża wynosi $0$), to z $s=1$ mamy\n",
    " $$ E = lK - lK = 0 $$\n",
    " Oznacza to, że przy sprawdzeniu jednego subtaska, provider tak samo wychodzi na oszukiwaniu (w dowolnym stopniu), jak i na byciu uczciwym.\n",
    " - J.w., tylko $s=2$ mamy\n",
    " $$ E = (1 - (1 - 2l + l^2))K - lK = lK - l^2K = l(1 - l)K $$\n",
    " Oznacza to, że przy sprawdzeniu dwóch subtasków provider najlepiej wychodzi na byciu cały czas uczciwym lub cały czas nieuczciwym - $l = 0$ lub $l = 1$ (bo nie ma kar i nic go to nie kosztuje)\n",
    " - Jeśli kara i marża są duże (rzędu kosztu zadania), $s=2$\n",
    " $$ e = (1 - (1 - 2l + l^2))(3K) - K - lK = 6lK - 2l^2K - K < 0$$\n",
    " Oznacza to, że providerowi opłaca się w takiej sytuacji oszukiwać. Widać, że w tej sytuacji składnik $K$ dominuje, więc musielibyśmy sprawić, żeby $(1-l)^s$ było relatywnie małe, czyli $s$ rośnie nam asymptotycznie logarytmicznie szybko, ale z dużą stałą (zależną od $M$, jeśli $l$ jest rzędu $\\frac{1}{M}$)."
   ]
  },
  {
   "cell_type": "markdown",
   "metadata": {},
   "source": [
    "Jednak nie musimy za bardzo przejmować się przypadkiem 3, bo w praktyce okazuje się, że $s$ może być dość małe (rzędu **stałej 2**)  \n",
    "Przykładowe dane:"
   ]
  },
  {
   "cell_type": "code",
   "execution_count": 18,
   "metadata": {},
   "outputs": [],
   "source": [
    "l = 0.1\n",
    "K = 100.\n",
    "Rplus = 50.\n",
    "Rminus = 200.\n",
    "s = 2.\n",
    "\n",
    "E = (1.-(1.-l)**s)*(K + Rplus + Rminus) - Rplus - l*K"
   ]
  },
  {
   "cell_type": "code",
   "execution_count": 19,
   "metadata": {},
   "outputs": [
    {
     "name": "stdout",
     "output_type": "stream",
     "text": [
      "6.499999999999986\n",
      "Providerowi nie opłaca się taka sytuacja\n"
     ]
    }
   ],
   "source": [
    "print(E)\n",
    "if E < 0:\n",
    "    print(\"Providerowi opłaca się taka sytuacja\")\n",
    "elif E == 0:\n",
    "    print(\"Provider robi co chce\")\n",
    "else:\n",
    "    print(\"Providerowi nie opłaca się taka sytuacja\")"
   ]
  },
  {
   "cell_type": "markdown",
   "metadata": {},
   "source": [
    "# Praktyczne podejście"
   ]
  },
  {
   "cell_type": "markdown",
   "metadata": {},
   "source": [
    "Jak duże trzeba w takim razie ustalić s?  \n",
    "Załóżmy, że dolnym limitem zarobku, na jaki może skusić się provider, żeby modyfikować kod golema, wstrzykiwać swoje wyniki itp jest $5$% wartości zadania.  "
   ]
  },
  {
   "cell_type": "markdown",
   "metadata": {},
   "source": [
    "Załóżmy dalej, że wartość zadania to $100$. Niech minimalna prowizja za zadanie wynosi $10$, maksymalna $100$, minimalna kara $100$, maksymalna kara $1000$."
   ]
  },
  {
   "cell_type": "code",
   "execution_count": 25,
   "metadata": {
    "collapsed": true
   },
   "outputs": [],
   "source": [
    "# Wtedy pesymistyczny przypadek to gdy \n",
    "l = 0.05\n",
    "Rminus = 100\n",
    "Rplus = 100\n",
    "K = 100"
   ]
  },
  {
   "cell_type": "markdown",
   "metadata": {},
   "source": [
    "Czyli żeby $E < 0$, $s$ musi spełniać\n",
    "$$\n",
    "\\begin{aligned}\n",
    "E &< 0 \\\\\n",
    "R_{+} + lK &< (1 - (1 - l)^s)(R_{-} + R_{+} + K) \\\\\n",
    "\\frac{R_{+} + lK}{(R_{-} + R_{+} + K)} &< (1 - (1 - l)^s)\\\\\n",
    "(1 - l)^s &< - \\frac{R_{+} + lK}{(R_{-} + R_{+} + K)} + 1 \\\\\n",
    "s &> log_{1-l}[- \\frac{R_{+} + lK}{(R_{-} + R_{+} + K)} + 1]\n",
    "\\end{aligned}\n",
    "$$"
   ]
  },
  {
   "cell_type": "code",
   "execution_count": 31,
   "metadata": {},
   "outputs": [
    {
     "name": "stdout",
     "output_type": "stream",
     "text": [
      "s > 8.398425588296972\n"
     ]
    }
   ],
   "source": [
    "# Podstawiając dostajemy\n",
    "from math import log\n",
    "print(\"s > {}\".format(log(-(Rplus + l*K)/(Rminus + Rplus + K) + 1, 1-l)))"
   ]
  },
  {
   "cell_type": "markdown",
   "metadata": {},
   "source": [
    "**Czyli niezależnie od rozmiaru zadania, wystarczy sprawdzić $9$ subtasków!**"
   ]
  },
  {
   "cell_type": "code",
   "execution_count": 37,
   "metadata": {},
   "outputs": [],
   "source": [
    "# Weźmy teraz przypadek średni, kiedy\n",
    "l = 0.05\n",
    "Rminus = 200\n",
    "Rplus = 10\n",
    "K = 100"
   ]
  },
  {
   "cell_type": "code",
   "execution_count": 38,
   "metadata": {},
   "outputs": [
    {
     "name": "stdout",
     "output_type": "stream",
     "text": [
      "s > 0.966928362304796\n"
     ]
    }
   ],
   "source": [
    "# Podstawiając dostajemy\n",
    "from math import log\n",
    "print(\"s > {}\".format(log(-(Rplus + l*K)/(Rminus + Rplus + K) + 1, 1-l)))"
   ]
  },
  {
   "cell_type": "markdown",
   "metadata": {},
   "source": [
    "**Czyli nawet jedno sprawdzenie by wystarczyło.**"
   ]
  },
  {
   "cell_type": "markdown",
   "metadata": {},
   "source": [
    "# Uwagi"
   ]
  },
  {
   "cell_type": "markdown",
   "metadata": {},
   "source": [
    " 1. Ze wzoru $$E = (1 - (1 - l))^s(R_{-} + R_{+} + K) - R_{+} - lK$$ wynika, że niezależnie, jak duże dobierzemy $s$, provider zawsze jest w stanie znaleźć $l$ na tyle małe, żeby opłacało mu się oszukiwać (to nie jest do końca prawda, bo jeśli $s$ będzie rzędu $M$, to wzór na kombinacje bez powtórzeń przestaje się dobrze przybliżać wzorem na kombinacje bez powtórzeń).\n",
    " 2. Cała analiza tutaj przeprowadzona ma przedstawić problem od strony ataku racjonalnego providera, tzn providera, który podejmuje działania, jeśli ich wartość oczekiwana jest mniejsza od zera.  \n",
    " To założenie nie musi być spełnione - w szczególności rozważając ataki na sieć, atakujący providerzy mogą poświęcać część zasobów w zamian za wypełnienie innych celów nie ujętych w modelu (np utrata zaufania do sieci, spadek wartości tokenu itp).  \n",
    " Obrona przed takimi \"nieracjonalnymi\" providerami może być bardzo trudna, z uwagi na to, że są w stanie operować bardzo celnie i małym kosztem.  \n",
    " Usecase: nieuczciwy provider zawsze renderuje obrazek z kilkoma wścieklezielonymi pikselami na środku. Zwykłe metody weryfikacji nie są w stanie tego wykryć (w terminologii niniejszego opracowania - $l$ jest bardzo małe), a skutecznie zniechęca to do używania Golema potencjalnych requestorów, zmniejsza zaufanie do systemu itp.  \n",
    " **Obrona przed takimi atakami musi być głębiej przemyślana**."
   ]
  }
 ],
 "metadata": {
  "kernelspec": {
   "display_name": "Python 3",
   "language": "python",
   "name": "python3"
  },
  "language_info": {
   "codemirror_mode": {
    "name": "ipython",
    "version": 3
   },
   "file_extension": ".py",
   "mimetype": "text/x-python",
   "name": "python",
   "nbconvert_exporter": "python",
   "pygments_lexer": "ipython3",
   "version": "3.6.1"
  }
 },
 "nbformat": 4,
 "nbformat_minor": 2
}
